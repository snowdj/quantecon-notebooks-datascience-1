{
 "cells": [
  {
   "cell_type": "markdown",
   "metadata": {},
   "source": [
    "# Python Fundamentals\n",
    "\n",
    "In this section, we begin with the basics.\n",
    "\n",
    "We will talk about what a programming language is and how computers use\n",
    "them to perform operations.\n",
    "\n",
    "We discuss why we chose the Python language for this course.\n",
    "\n",
    "We learn about core concepts like variables, data-types, and\n",
    "functions.\n",
    "\n",
    "We will become familiar with the core data-types built into Python,\n",
    "some standard functions we will frequently use, and learn how to define our own functions.\n",
    "\n",
    "By the end, you should have a solid grasp on core Python\n",
    "concepts, be prepared to study the next sections on numerical programming,\n",
    "and feel comfortable handling data.\n",
    "\n",
    "<div class=\"toctree\">\n",
    "\n",
    "- [Basics](basics.html)\n",
    "  - [First Steps](basics.html#first-steps)\n",
    "  - [Functions](basics.html#functions)\n",
    "  - [Objects and Types](basics.html#objects-and-types)\n",
    "  - [Modules](basics.html#modules)\n",
    "  - [Good Code Habits](basics.html#good-code-habits)\n",
    "  - [Numbers](basics.html#numbers)\n",
    "  - [Strings](basics.html#strings)\n",
    "  - [Booleans](basics.html#booleans)\n",
    "  - [Exercises](basics.html#exercises)\n",
    "- [Collections](collections.html)\n",
    "  - [Ordered Collections](collections.html#ordered-collections)\n",
    "  - [Associative Collections](collections.html#associative-collections)\n",
    "  - [Exercises](collections.html#exercises)\n",
    "- [Control Flow](control_flow.html)\n",
    "  - [Net Present Values and Asset Pricing](control_flow.html#net-present-values-and-asset-pricing)\n",
    "  - [Conditional Statements and Blocks](control_flow.html#conditional-statements-and-blocks)\n",
    "  - [Iteration](control_flow.html#iteration)\n",
    "  - [Comprehension](control_flow.html#comprehension)\n",
    "  - [Exercises](control_flow.html#exercises)\n",
    "- [Functions](functions.html)\n",
    "  - [Application: Production Functions](functions.html#application-production-functions)\n",
    "  - [What are (Python) Functions?](functions.html#what-are-python-functions)\n",
    "  - [How to Define (Python) Functions?](functions.html#how-to-define-python-functions)\n",
    "  - [More on Scope (Optional)](functions.html#more-on-scope-optional)\n",
    "  - [Exercises](functions.html#exercises)"
   ]
  }
 ],
 "metadata": {
  "date": 1573843786.6708126,
  "download_nb": 1,
  "download_nb_path": "https://datascience.quantecon.org/",
  "filename": "index.rst",
  "filename_with_path": "python_fundamentals/index",
  "kernelspec": {
   "display_name": "Python",
   "language": "python3",
   "name": "python3"
  },
  "language_info": {
   "codemirror_mode": {
    "name": "ipython",
    "version": 3
   },
   "file_extension": ".py",
   "mimetype": "text/x-python",
   "name": "python",
   "nbconvert_exporter": "python",
   "pygments_lexer": "ipython3",
   "version": "3.7.3"
  },
  "title": "Python Fundamentals"
 },
 "nbformat": 4,
 "nbformat_minor": 2
}
