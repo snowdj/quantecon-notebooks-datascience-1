{
 "cells": [
  {
   "cell_type": "markdown",
   "metadata": {},
   "source": [
    "# Introduction\n",
    "\n",
    "In this section, we set the stage for the rest of the course.\n",
    "\n",
    "We will describe our goals and objectives.\n",
    "\n",
    "We will then talk about what a programming language is, how computers use them to do operations, and\n",
    "why we have chosen the Python language.\n",
    "\n",
    "We then present two potential environments for working through this course material:\n",
    "\n",
    "1. A cloud environment in which computations are performed remotely on the cloud and you interact\n",
    "  with this remote computer through your browser.  \n",
    "1. A local environment in which you install the appropriate software and all interactions are with\n",
    "  your own computer.  \n",
    "\n",
    "\n",
    "At the end of this section, we hope you understand what you’d like to accomplish with these lectures\n",
    "and that you are able to start and use a Jupyter notebook.\n",
    "\n",
    "<div class=\"toctree\">\n",
    "\n",
    "- [Course Description](overview.html)\n",
    "  - [Course Objectives and Scope](overview.html#course-objectives-and-scope)\n",
    "  - [Prerequisites](overview.html#prerequisites)\n",
    "- [Getting Started](getting_started.html)\n",
    "  - [Welcome](getting_started.html#welcome)\n",
    "  - [Exercises](getting_started.html#exercises)\n",
    "- [Cloud Setup](cloud_setup.html)\n",
    "  - [Launch Environments](cloud_setup.html#launch-environments)\n",
    "- [Local Installation](local_install.html)\n",
    "  - [Installation](local_install.html#installation)\n",
    "  - [Downloading the QuantEcon Data Science Lectures](local_install.html#downloading-the-quantecon-data-science-lectures)\n",
    "  - [Package Management](local_install.html#package-management)\n",
    "  - [Starting Jupyter](local_install.html#starting-jupyter)\n",
    "  - [Exercises](local_install.html#exercises)\n",
    "- [Troubleshooting](troubleshooting.html)\n",
    "  - [Resetting Lectures](troubleshooting.html#resetting-lectures)\n",
    "  - [Reporting an Issue](troubleshooting.html#reporting-an-issue)"
   ]
  }
 ],
 "metadata": {
  "date": 1573843778.927695,
  "download_nb": 1,
  "download_nb_path": "https://datascience.quantecon.org/",
  "filename": "index.rst",
  "filename_with_path": "introduction/index",
  "kernelspec": {
   "display_name": "Python",
   "language": "python3",
   "name": "python3"
  },
  "language_info": {
   "codemirror_mode": {
    "name": "ipython",
    "version": 3
   },
   "file_extension": ".py",
   "mimetype": "text/x-python",
   "name": "python",
   "nbconvert_exporter": "python",
   "pygments_lexer": "ipython3",
   "version": "3.7.3"
  },
  "title": "Introduction"
 },
 "nbformat": 4,
 "nbformat_minor": 2
}
