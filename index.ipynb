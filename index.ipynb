{
 "cells": [
  {
   "cell_type": "markdown",
   "metadata": {},
   "source": [
    "# Home\n",
    "\n",
    "- [Introduction](introduction/index.html)\n",
    "  - [Course Description](introduction/overview.html)\n",
    "  - [Getting Started](introduction/getting_started.html)\n",
    "  - [Cloud Setup](introduction/cloud_setup.html)\n",
    "  - [Local Installation](introduction/local_install.html)\n",
    "  - [Troubleshooting](introduction/troubleshooting.html)\n",
    "- [Python Fundamentals](python_fundamentals/index.html)\n",
    "  - [Basics](python_fundamentals/basics.html)\n",
    "  - [Collections](python_fundamentals/collections.html)\n",
    "  - [Control Flow](python_fundamentals/control_flow.html)\n",
    "  - [Functions](python_fundamentals/functions.html)\n",
    "- [Scientific Computing](scientific/index.html)\n",
    "  - [Introduction to Numpy](scientific/numpy_arrays.html)\n",
    "  - [Plotting](scientific/plotting.html)\n",
    "  - [Applied Linear Algebra](scientific/applied_linalg.html)\n",
    "  - [Randomness](scientific/randomness.html)\n",
    "  - [Optimization](scientific/optimization.html)\n",
    "- [pandas](pandas/index.html)\n",
    "  - [Introduction](pandas/intro.html)\n",
    "  - [Basic Functionality](pandas/basics.html)\n",
    "  - [The Index](pandas/the_index.html)\n",
    "  - [Storage Formats](pandas/storage_formats.html)\n",
    "  - [Cleaning Data](pandas/data_clean.html)\n",
    "  - [Reshape](pandas/reshape.html)\n",
    "  - [Merge](pandas/merge.html)\n",
    "  - [GroupBy](pandas/groupby.html)\n",
    "  - [Time series](pandas/timeseries.html)\n",
    "  - [Intermediate Plotting](pandas/matplotlib.html)\n",
    "- [Applications](applications/index.html)\n",
    "  - [Data Visualization: Rules and Guidelines](applications/visualization_rules.html)\n",
    "  - [Regression](applications/regression.html)\n",
    "  - [Case Study: Recidivism](applications/recidivism.html)\n",
    "  - [Mapping in Python](applications/maps.html)\n",
    "  - [Classification](applications/classification.html)\n",
    "  - [Working with Text](applications/working_with_text.html)\n",
    "  - [Machine Learning in Economics](applications/ml_in_economics.html)\n",
    "  - [Heterogeneous Effects](applications/heterogeneity.html)"
   ]
  }
 ],
 "metadata": {
  "date": 1573843778.652041,
  "download_nb": 1,
  "download_nb_path": "https://datascience.quantecon.org/",
  "filename": "index.rst",
  "filename_with_path": "index",
  "kernelspec": {
   "display_name": "Python",
   "language": "python3",
   "name": "python3"
  },
  "language_info": {
   "codemirror_mode": {
    "name": "ipython",
    "version": 3
   },
   "file_extension": ".py",
   "mimetype": "text/x-python",
   "name": "python",
   "nbconvert_exporter": "python",
   "pygments_lexer": "ipython3",
   "version": "3.7.3"
  },
  "title": "Home"
 },
 "nbformat": 4,
 "nbformat_minor": 2
}
